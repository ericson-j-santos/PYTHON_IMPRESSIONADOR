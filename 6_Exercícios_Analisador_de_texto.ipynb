{
  "cells": [
    {
      "cell_type": "markdown",
      "metadata": {
        "id": "view-in-github",
        "colab_type": "text"
      },
      "source": [
        "<a href=\"https://colab.research.google.com/github/ericson-j-santos/PYTHON_IMPRESSIONADOR/blob/18.-Exerc%C3%ADcios-e-O-que-falta-aprender-agora/6_Exerc%C3%ADcios_Analisador_de_texto.ipynb\" target=\"_parent\"><img src=\"https://colab.research.google.com/assets/colab-badge.svg\" alt=\"Open In Colab\"/></a>"
      ]
    },
    {
      "cell_type": "markdown",
      "id": "bc53556e-a539-4328-b873-fa5357312414",
      "metadata": {
        "id": "bc53556e-a539-4328-b873-fa5357312414"
      },
      "source": [
        "Crie um programa que analise um texto fornecido pelo usuário. O programa deve contar o número de palavras (independentemente se há repetição ou não), a quantidade de cada palavra e a quantidade de cada letra. Ignore maiúsculas e minúsculas ao contar letras (ou seja, transforme tudo para minúsculas). Faça o devido tratamento para pontuação e espaços ao contar palavras.\n",
        "\n",
        "O programa deve conter uma função chamada `analisar_texto` que recebe o texto como parâmetro e retorna a contagem de palavras, a frequência de palavras e a frequência de letras. A função deve ser devidamente documentada.\n",
        "\n",
        "Para o texto \"Olá mundo! Este é um teste. Olá novamente.\" o programa deve imprimir:\n",
        "\n",
        "```\n",
        "Contagem de palavras: 8\n",
        "Frequência de palavras: Counter({'Olá': 2, 'mundo': 1, 'Este': 1, 'é': 1, 'um': 1, 'teste': 1, 'novamente': 1})\n",
        "Frequência de letras: Counter({' ': 7, 'e': 6, 'o': 4, 't': 4, 'm': 3, 'n': 3, 'l': 2, 'á': 2, 'u': 2, 's': 2, 'd': 1, 'é': 1, 'v': 1, 'a': 1})\n",
        "```\n",
        "\n",
        "Dica: use o módulo `string` para obter uma lista de caracteres de pontuação. Exemplo:\n",
        "\n",
        "```python\n",
        "import string\n",
        "print(string.punctuation)\n",
        "```\n",
        "\n",
        "Dica: use o módulo `collections` para obter um contador de palavras e letras. Exemplo:\n",
        "\n",
        "```python\n",
        "from collections import Counter\n",
        "print(Counter(['a', 'b', 'a', 'c', 'b', 'a']))\n",
        "print(Counter('abacba'))\n",
        "```"
      ]
    },
    {
      "cell_type": "code",
      "source": [
        "import string\n",
        "print(string.punctuation)\n",
        "print(string.ascii_letters)\n",
        "print(string.ascii_lowercase)\n",
        "print(string.ascii_uppercase)"
      ],
      "metadata": {
        "colab": {
          "base_uri": "https://localhost:8080/"
        },
        "id": "_AS-fktmJsS6",
        "outputId": "13604cbd-d4fa-48dd-b5fe-2b031ac8d607"
      },
      "id": "_AS-fktmJsS6",
      "execution_count": null,
      "outputs": [
        {
          "output_type": "stream",
          "name": "stdout",
          "text": [
            "!\"#$%&'()*+,-./:;<=>?@[\\]^_`{|}~\n",
            "abcdefghijklmnopqrstuvwxyzABCDEFGHIJKLMNOPQRSTUVWXYZ\n",
            "abcdefghijklmnopqrstuvwxyz\n",
            "ABCDEFGHIJKLMNOPQRSTUVWXYZ\n"
          ]
        }
      ]
    },
    {
      "cell_type": "code",
      "execution_count": null,
      "id": "8feda3f2-210f-4224-9b53-de7206c039ae",
      "metadata": {
        "colab": {
          "base_uri": "https://localhost:8080/"
        },
        "id": "8feda3f2-210f-4224-9b53-de7206c039ae",
        "outputId": "cd18a14a-6443-4b3d-894a-9649ae9b4472"
      },
      "outputs": [
        {
          "output_type": "stream",
          "name": "stdout",
          "text": [
            "Counter({'a': 3, 'b': 2, 'c': 1})\n",
            "Counter({'a': 3, 'b': 2, 'c': 1})\n"
          ]
        }
      ],
      "source": [
        "from collections import Counter\n",
        "print(Counter(['a', 'b', 'a', 'c', 'b', 'a']))\n",
        "print(Counter('abacba'))"
      ]
    },
    {
      "cell_type": "code",
      "source": [
        "# Solução simples\n",
        "\n",
        "def analisar_texto(texto):\n",
        "  palavras = texto.split()\n",
        "  contagem_palavras = len(palavras)\n",
        "  frequencia_palavras = Counter(palavras)\n",
        "  frequencia_letras = Counter(texto)\n",
        "\n",
        "  return contagem_palavras, frequencia_palavras, frequencia_letras\n",
        "\n",
        "  # return len(palavras), Counter(palavras), Counter(texto.lower())\n",
        "  # (8, Counter({'Olá': 2, 'mundo!': 1, 'Este': 1, 'é': 1, 'um': 1, 'teste.': 1, 'novamente.': 1}), Counter({' ': 7, 'e': 6, 'o': 4, 't': 4, 'm': 3, 'n': 3, 'l': 2, 'á': 2, 'u': 2, 's': 2, '.': 2, 'd': 1, '!': 1, 'é': 1, 'v': 1, 'a': 1}))\n",
        "\n",
        "\n",
        "texto = \"Olá mundo! Este é um teste. Olá novamente.\"\n",
        "\n",
        "contagem_palavras, frequencia_palavras, frequencia_letras = analisar_texto(texto)\n",
        "\n",
        "print(\"Contagem de palavras:\", contagem_palavras)\n",
        "print(\"Frequência de palavras:\", frequencia_palavras)\n",
        "print(\"Frequência de letras:\", frequencia_letras)\n",
        "\n",
        "print(analisar_texto(texto))"
      ],
      "metadata": {
        "colab": {
          "base_uri": "https://localhost:8080/"
        },
        "id": "PNL-9pyURNiK",
        "outputId": "ffae3247-43c2-4dd8-e4e1-f4f2471a93af"
      },
      "id": "PNL-9pyURNiK",
      "execution_count": null,
      "outputs": [
        {
          "output_type": "stream",
          "name": "stdout",
          "text": [
            "Contagem de palavras: 8\n",
            "Frequência de palavras: Counter({'Olá': 2, 'mundo!': 1, 'Este': 1, 'é': 1, 'um': 1, 'teste.': 1, 'novamente.': 1})\n",
            "Frequência de letras: Counter({' ': 7, 'e': 5, 't': 4, 'm': 3, 'n': 3, 'O': 2, 'l': 2, 'á': 2, 'u': 2, 'o': 2, 's': 2, '.': 2, 'd': 1, '!': 1, 'E': 1, 'é': 1, 'v': 1, 'a': 1})\n",
            "(8, Counter({'Olá': 2, 'mundo!': 1, 'Este': 1, 'é': 1, 'um': 1, 'teste.': 1, 'novamente.': 1}), Counter({' ': 7, 'e': 5, 't': 4, 'm': 3, 'n': 3, 'O': 2, 'l': 2, 'á': 2, 'u': 2, 'o': 2, 's': 2, '.': 2, 'd': 1, '!': 1, 'E': 1, 'é': 1, 'v': 1, 'a': 1}))\n"
          ]
        }
      ]
    },
    {
      "cell_type": "code",
      "source": [
        "vogais = \"aeiou\"\n",
        "numeros = \"12345\"\n",
        "\n",
        "guia_troca = str.maketrans(vogais, numeros)\n",
        "print(guia_troca)\n",
        "# retorno abaixo: pega o caractere 97 e substitui pelo caractere na posicao 49, conforme codigos de posicao da tabela ascii\n",
        "# {97: 49, 101: 50, 105: 51, 111: 52, 117: 53}\n",
        "\n",
        "print(guia_troca)\n",
        "\n"
      ],
      "metadata": {
        "colab": {
          "base_uri": "https://localhost:8080/"
        },
        "id": "cAkHoGJBToy5",
        "outputId": "2a8bee56-3d13-40e8-9e34-50c6c113ccce"
      },
      "id": "cAkHoGJBToy5",
      "execution_count": 3,
      "outputs": [
        {
          "output_type": "stream",
          "name": "stdout",
          "text": [
            "{97: 49, 101: 50, 105: 51, 111: 52, 117: 53}\n"
          ]
        }
      ]
    },
    {
      "cell_type": "code",
      "source": [
        "vogais = \"aeiou\"\n",
        "numeros = \"12345\"\n",
        "remover = \"a\"\n",
        "\n",
        "guia_troca = str.maketrans(vogais, numeros, remover)\n",
        "print(guia_troca)\n",
        "# retorno abaixo: pega o caractere 97 e substitui pelo caractere na posicao 49, conforme codigos de posicao da tabela ascii\n",
        "# {97: None, 101: 50, 105: 51, 111: 52, 117: 53}\n",
        "\n",
        "\n"
      ],
      "metadata": {
        "colab": {
          "base_uri": "https://localhost:8080/"
        },
        "id": "kqETUOyyUK4x",
        "outputId": "42a62a12-b5bd-4474-b15c-71ad2273028e"
      },
      "id": "kqETUOyyUK4x",
      "execution_count": 4,
      "outputs": [
        {
          "output_type": "stream",
          "name": "stdout",
          "text": [
            "{97: None, 101: 50, 105: 51, 111: 52, 117: 53}\n",
            "{97: None, 101: 50, 105: 51, 111: 52, 117: 53}\n"
          ]
        }
      ]
    },
    {
      "cell_type": "code",
      "source": [
        "import string # importing the string module\n",
        "\n",
        "\n",
        "letras_minusculas = string.ascii_lowercase\n",
        "print(letras_minusculas.translate(guia_troca))"
      ],
      "metadata": {
        "colab": {
          "base_uri": "https://localhost:8080/"
        },
        "id": "tLw0fq0jU54n",
        "outputId": "0cb5f752-8119-437e-bf0a-d0a0d73d88e3"
      },
      "id": "tLw0fq0jU54n",
      "execution_count": 6,
      "outputs": [
        {
          "output_type": "stream",
          "name": "stdout",
          "text": [
            "bcd2fgh3jklmn4pqrst5vwxyz\n"
          ]
        }
      ]
    },
    {
      "cell_type": "code",
      "source": [
        "from collections import Counter # Importing the Counter class from collections module\n",
        "\n",
        "\n",
        "# Solução simples\n",
        "\n",
        "def analisar_texto(texto):\n",
        "  \"\"\"\n",
        "  Analisa o texto fornecido e calcula a contagem de palavras, a frequencia de palavras\n",
        "  e frequencia de letras.\n",
        "\n",
        "  Parameters\n",
        "  ----------\n",
        "  texto : str\n",
        "    Texto a ser analisado.\n",
        "\n",
        "  Returns\n",
        "  -------\n",
        "  tuple\n",
        "    Uma tupla contendo a contagem de palavras, a frequencia de palavras e frequencia de letras.\n",
        "  \"\"\"\n",
        "\n",
        "  tratamento = str.maketrans(\"\", \"\", string.punctuation)\n",
        "  texto = texto.translate(tratamento)\n",
        "  palavras = texto.split()\n",
        "  contagem_palavras = len(palavras)\n",
        "  frequencia_palavras = Counter(palavras)\n",
        "  frequencia_letras = Counter(texto.lower())\n",
        "\n",
        "  return contagem_palavras, frequencia_palavras, frequencia_letras\n",
        "\n",
        "  # return len(palavras), Counter(palavras), Counter(texto.lower())\n",
        "  # (8, Counter({'Olá': 2, 'mundo!': 1, 'Este': 1, 'é': 1, 'um': 1, 'teste.': 1, 'novamente.': 1}), Counter({' ': 7, 'e': 6, 'o': 4, 't': 4, 'm': 3, 'n': 3, 'l': 2, 'á': 2, 'u': 2, 's': 2, '.': 2, 'd': 1, '!': 1, 'é': 1, 'v': 1, 'a': 1}))\n",
        "\n",
        "\n",
        "texto = \"Olá mundo! Este é um teste. Olá novamente.\"\n",
        "\n",
        "contagem_palavras, frequencia_palavras, frequencia_letras = analisar_texto(texto)\n",
        "\n",
        "print(\"Contagem de palavras:\", contagem_palavras)\n",
        "print(\"Frequência de palavras:\", frequencia_palavras)\n",
        "print(\"Frequência de letras:\", frequencia_letras)\n",
        "\n",
        "print(analisar_texto(texto))"
      ],
      "metadata": {
        "colab": {
          "base_uri": "https://localhost:8080/"
        },
        "id": "cpcG8mMfVz_2",
        "outputId": "28ef7fb2-3c55-4970-d23f-e1bdf3b02ef6"
      },
      "id": "cpcG8mMfVz_2",
      "execution_count": 10,
      "outputs": [
        {
          "output_type": "stream",
          "name": "stdout",
          "text": [
            "Contagem de palavras: 8\n",
            "Frequência de palavras: Counter({'Olá': 2, 'mundo': 1, 'Este': 1, 'é': 1, 'um': 1, 'teste': 1, 'novamente': 1})\n",
            "Frequência de letras: Counter({' ': 7, 'e': 6, 'o': 4, 't': 4, 'm': 3, 'n': 3, 'l': 2, 'á': 2, 'u': 2, 's': 2, 'd': 1, 'é': 1, 'v': 1, 'a': 1})\n",
            "(8, Counter({'Olá': 2, 'mundo': 1, 'Este': 1, 'é': 1, 'um': 1, 'teste': 1, 'novamente': 1}), Counter({' ': 7, 'e': 6, 'o': 4, 't': 4, 'm': 3, 'n': 3, 'l': 2, 'á': 2, 'u': 2, 's': 2, 'd': 1, 'é': 1, 'v': 1, 'a': 1}))\n"
          ]
        }
      ]
    }
  ],
  "metadata": {
    "kernelspec": {
      "display_name": "Python 3 (ipykernel)",
      "language": "python",
      "name": "python3"
    },
    "language_info": {
      "codemirror_mode": {
        "name": "ipython",
        "version": 3
      },
      "file_extension": ".py",
      "mimetype": "text/x-python",
      "name": "python",
      "nbconvert_exporter": "python",
      "pygments_lexer": "ipython3",
      "version": "3.10.11"
    },
    "colab": {
      "provenance": [],
      "include_colab_link": true
    }
  },
  "nbformat": 4,
  "nbformat_minor": 5
}