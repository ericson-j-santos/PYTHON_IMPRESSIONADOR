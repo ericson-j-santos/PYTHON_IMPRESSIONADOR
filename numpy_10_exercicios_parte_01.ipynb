{
  "cells": [
    {
      "cell_type": "markdown",
      "metadata": {
        "id": "view-in-github",
        "colab_type": "text"
      },
      "source": [
        "<a href=\"https://colab.research.google.com/github/ericson-j-santos/PYTHON_IMPRESSIONADOR/blob/main/numpy_10_exercicios_parte_01.ipynb\" target=\"_parent\"><img src=\"https://colab.research.google.com/assets/colab-badge.svg\" alt=\"Open In Colab\"/></a>"
      ]
    },
    {
      "cell_type": "markdown",
      "metadata": {
        "id": "a2ZzfYy8rAbv"
      },
      "source": [
        "## Exercício\n",
        "\n",
        "Você é um gerente de vendas e tem os dados de vendas de três produtos diferentes (Produto A, Produto B, Produto C) para os últimos 5 dias em um array 2D NumPy. Cada linha do array representa um produto e cada coluna representa um dia. Seu trabalho é calcular as vendas totais para cada produto e para cada dia.\n",
        "\n",
        "Use o seguinte array para sua análise:\n",
        "\n",
        "* Cada linha abaixo do vetor vendas, representa um produto, produto A, produto B e produto C;\n",
        "* E cada coluna é um dia, sendo total de 5 dias;\n",
        "* Ultimos 5 dias = ontem, anteontem, ...\n",
        "```python\n",
        "vendas = np.array([[50, 60, 70, 65, 80],\n",
        "                   [85, 90, 78, 92, 88],\n",
        "                   [72, 75, 68, 77, 76]])\n",
        "```\n",
        "\n",
        "**Solução:**\n"
      ]
    },
    {
      "cell_type": "code",
      "execution_count": 5,
      "metadata": {
        "ExecuteTime": {
          "end_time": "2023-07-03T12:12:12.700234800Z",
          "start_time": "2023-07-03T12:12:12.677347900Z"
        },
        "jupyter": {
          "outputs_hidden": false
        },
        "colab": {
          "base_uri": "https://localhost:8080/"
        },
        "id": "47pGmzS-rAbw",
        "outputId": "ff4cea1a-bb55-40aa-b514-11c09997d2e5"
      },
      "outputs": [
        {
          "output_type": "stream",
          "name": "stdout",
          "text": [
            "[325 433 368]\n"
          ]
        }
      ],
      "source": [
        "import numpy as np\n",
        "\n",
        "vendas = np.array([[50, 60, 70, 65, 80],\n",
        "                   [85, 90, 78, 92, 88],\n",
        "                   [72, 75, 68, 77, 76]])\n",
        "\n",
        "vendas_produto = np.sum(vendas, axis=1)\n",
        "print(vendas_produto)\n",
        "# [325 433 368]\n"
      ]
    },
    {
      "cell_type": "code",
      "source": [
        "print(f\"Vendas totais para o produto A: {vendas_produto[0]}\")\n",
        "print(f\"Vendas totais para o produto B: {vendas_produto[1]}\")\n",
        "print(f\"Vendas totais para o produto C: {vendas_produto[2]}\")\n",
        "# Vendas totais para o produto A: 325\n",
        "# Vendas totais para o produto B: 433\n",
        "# Vendas totais para o produto C: 368"
      ],
      "metadata": {
        "colab": {
          "base_uri": "https://localhost:8080/"
        },
        "id": "dbRZ1zDbsozy",
        "outputId": "29d9d76f-0d72-40d2-ab1c-f670a3373833"
      },
      "execution_count": 5,
      "outputs": [
        {
          "output_type": "stream",
          "name": "stdout",
          "text": [
            "Vendas totais para o produto A: 325\n",
            "Vendas totais para o produto B: 433\n",
            "Vendas totais para o produto C: 368\n"
          ]
        }
      ]
    },
    {
      "cell_type": "code",
      "source": [
        "vendas_dia = np.sum(vendas, axis=0)\n",
        "print(vendas_dia)\n",
        "# [207 225 216 234 244]\n"
      ],
      "metadata": {
        "colab": {
          "base_uri": "https://localhost:8080/"
        },
        "id": "Y_IyrcpSsM2B",
        "outputId": "21e6c864-02ac-49eb-ead0-6893ea2f6d28"
      },
      "execution_count": 6,
      "outputs": [
        {
          "output_type": "stream",
          "name": "stdout",
          "text": [
            "[207 225 216 234 244]\n"
          ]
        }
      ]
    },
    {
      "cell_type": "code",
      "source": [
        "print(f\"Vendas totais para o dia 1: {vendas_dia[0]}\")\n",
        "print(f\"Vendas totais para o dia 2: {vendas_dia[1]}\")\n",
        "print(f\"Vendas totais para o dia 3: {vendas_dia[2]}\")\n",
        "print(f\"Vendas totais para o dia 4: {vendas_dia[3]}\")\n",
        "print(f\"Vendas totais para o dia 5: {vendas_dia[4]}\")\n",
        "# Vendas totais para o dia 1: 207\n",
        "# Vendas totais para o dia 2: 225\n",
        "# Vendas totais para o dia 3: 216\n",
        "# Vendas totais para o dia 4: 234\n",
        "# Vendas totais para o dia 5: 244"
      ],
      "metadata": {
        "colab": {
          "base_uri": "https://localhost:8080/"
        },
        "id": "AY2aFMcAtY8d",
        "outputId": "ba7a7d6d-b509-4614-a8cf-e639ba3bfc09"
      },
      "execution_count": 7,
      "outputs": [
        {
          "output_type": "stream",
          "name": "stdout",
          "text": [
            "Vendas totais para o dia 1: 207\n",
            "Vendas totais para o dia 2: 225\n",
            "Vendas totais para o dia 3: 216\n",
            "Vendas totais para o dia 4: 234\n",
            "Vendas totais para o dia 5: 244\n"
          ]
        }
      ]
    },
    {
      "cell_type": "code",
      "source": [
        "print(range(5))\n",
        "# range(0, 5)"
      ],
      "metadata": {
        "colab": {
          "base_uri": "https://localhost:8080/"
        },
        "id": "og60echQP-It",
        "outputId": "e8fb0519-ab49-48ea-b6ed-fd94d91283fc"
      },
      "execution_count": 2,
      "outputs": [
        {
          "output_type": "stream",
          "name": "stdout",
          "text": [
            "range(0, 5)\n"
          ]
        }
      ]
    },
    {
      "cell_type": "code",
      "source": [
        "print(list(range(5)))\n",
        "# [0, 1, 2, 3, 4]"
      ],
      "metadata": {
        "colab": {
          "base_uri": "https://localhost:8080/"
        },
        "id": "vN75Q_6dP2Jf",
        "outputId": "6fa77fbd-b779-43c6-a102-e068ed11b824"
      },
      "execution_count": 1,
      "outputs": [
        {
          "output_type": "stream",
          "name": "stdout",
          "text": [
            "[0, 1, 2, 3, 4]\n"
          ]
        }
      ]
    },
    {
      "cell_type": "code",
      "source": [
        "for i in range(5):\n",
        "    print(f\"Vendas totais para o dia {i+1}: {vendas_dia[i]}.\")\n",
        "# Vendas totais para o dia 1: 207.\n",
        "# Vendas totais para o dia 2: 225.\n",
        "# Vendas totais para o dia 3: 216.\n",
        "# Vendas totais para o dia 4: 234.\n",
        "# Vendas totais para o dia 5: 244.\n"
      ],
      "metadata": {
        "colab": {
          "base_uri": "https://localhost:8080/"
        },
        "id": "ZU7h3sY4PreT",
        "outputId": "e65405c3-c1f8-4800-fb8c-0be6052fdc97"
      },
      "execution_count": 8,
      "outputs": [
        {
          "output_type": "stream",
          "name": "stdout",
          "text": [
            "Vendas totais para o dia 1: 207.\n",
            "Vendas totais para o dia 2: 225.\n",
            "Vendas totais para o dia 3: 216.\n",
            "Vendas totais para o dia 4: 234.\n",
            "Vendas totais para o dia 5: 244.\n"
          ]
        }
      ]
    }
  ],
  "metadata": {
    "kernelspec": {
      "display_name": "Python 3 (ipykernel)",
      "language": "python",
      "name": "python3"
    },
    "language_info": {
      "codemirror_mode": {
        "name": "ipython",
        "version": 3
      },
      "file_extension": ".py",
      "mimetype": "text/x-python",
      "name": "python",
      "nbconvert_exporter": "python",
      "pygments_lexer": "ipython3",
      "version": "3.10.11"
    },
    "colab": {
      "provenance": [],
      "include_colab_link": true
    }
  },
  "nbformat": 4,
  "nbformat_minor": 0
}