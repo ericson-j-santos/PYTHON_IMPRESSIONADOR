{
  "cells": [
    {
      "cell_type": "markdown",
      "metadata": {
        "id": "view-in-github",
        "colab_type": "text"
      },
      "source": [
        "<a href=\"https://colab.research.google.com/github/ericson-j-santos/PYTHON_IMPRESSIONADOR/blob/main/numpy_11_exercicios_parte_02.ipynb\" target=\"_parent\"><img src=\"https://colab.research.google.com/assets/colab-badge.svg\" alt=\"Open In Colab\"/></a>"
      ]
    },
    {
      "cell_type": "markdown",
      "metadata": {
        "id": "Pn1apeKbRRJi"
      },
      "source": [
        "## Exercício\n",
        "\n",
        "Você é um analista de dados em uma empresa e conduziu uma pesquisa de satisfação do cliente durante uma semana. Você perguntou as clientes para classificar seu nível de satisfação com o serviço ao cliente em uma escala de 0 a 10. Você coletou respostas de 30 clientes por dia durante 7 dias, resultando em um total de 210 respostas.\n",
        "\n",
        "No entanto, os dados que você recebeu estão em um array 1D de 210 elementos. Reorganize os dados de forma a ter as respostas por dia e faça uma análise descritiva básica, calculando a média geral de satisfação e a média diária."
      ]
    },
    {
      "cell_type": "code",
      "execution_count": null,
      "metadata": {
        "ExecuteTime": {
          "end_time": "2023-07-03T12:12:12.700234800Z",
          "start_time": "2023-07-03T12:12:12.677347900Z"
        },
        "jupyter": {
          "outputs_hidden": false
        },
        "colab": {
          "base_uri": "https://localhost:8080/"
        },
        "id": "q7Rzk3j_RRJl",
        "outputId": "b1d783f5-8691-4fc1-d66b-c37742e562fe"
      },
      "outputs": [
        {
          "output_type": "stream",
          "name": "stdout",
          "text": [
            "[ 0  8  7  4  4  9  0  7  2  1  5 10  8  8  7  8  5  1  9  4  5  4  2 10\n",
            "  8  7  4  9  5  4  4  2  1  6  9  0  9  9  3  6  1  8  7  3  0 10  4  9\n",
            "  7  8  8  2  4  5  5  0  6  1  8  7 10  8  4 10  4  3  9  4  0  5  8  2\n",
            "  5  1  7  5  3  2  6  7 10  4  1  9  6  7  1  3  8  9  4  8  9  4  9  3\n",
            "  2  7  7  1  9  2  8  0  8  8  8  7  5  7  3  8  6  5  5  6  0  1  2  1\n",
            "  4  7  7  5  9  6  0  8  6  6  6  6  0  6  8  3  6  0  3  4 10  2  3  4\n",
            " 10  9  0  2  9  0  9  3 10  3  4  7  1  6  5  8 10  7  4  4  4  8  3  1\n",
            "  3  0  1  0  8  7  7  5  7  1  9  5 10  1  5  7  5  4  1  4  2  3  7  6\n",
            "  6  3 10  0  3  1  3 10  4  9  5  7  5  2  8 10  2  8]\n"
          ]
        }
      ],
      "source": [
        "import numpy as np\n",
        "\n",
        "# considere os seguintes dados aleatórios como início\n",
        "\n",
        "# 1. A gente precisa de um objeto gerador que aqui chamamos de rng\n",
        "# 1.1 Padronizado com o seed setado, para que qualquer desenvolvedor for trabalhar com esse código,\n",
        "#     trabalhe com os mesmos números dado aqui.\n",
        "rng = np.random.default_rng(seed=42)\n",
        "# 2. Resposta recebendo o gerador já com o padrão setado no enunciado que escala deveria ser de 0 a 10,\n",
        "#    sendo representado na funcao no low=0 e high=10 e size=120 representado os 210 elementos.\n",
        "#    E endpoint true para incluir o 10 no final também;\n",
        "respostas = rng.integers(low=0, high=10, size=210, endpoint=True)\n",
        "print(respostas)"
      ]
    },
    {
      "cell_type": "markdown",
      "metadata": {
        "id": "xBsJ8RicRRJm"
      },
      "source": [
        "O seguinte modelo pode ser pensado para os dados recebidos:\n",
        "\n",
        "    dia 1 cliente 1, dia 1 cliente 2, dia 1 cliente 3, ...\n",
        "    ... dia 7 cliente 28, dia 7 cliente 29, dia 7 cliente 30\n",
        "    \n",
        "Assim, podemos fazer um reshape:"
      ]
    },
    {
      "cell_type": "code",
      "source": [
        "repostas_reshape = np.reshape(respostas, (7,30))\n",
        "print(repostas_reshape)\n",
        "# Sendo 30 clientes(coluna) por 7 dias(linha)\n",
        "# [[ 0  8  7  4  4  9  0  7  2  1  5 10  8  8  7  8  5  1  9  4  5  4  2 10\n",
        "#    8  7  4  9  5  4]\n",
        "#  [ 4  2  1  6  9  0  9  9  3  6  1  8  7  3  0 10  4  9  7  8  8  2  4  5\n",
        "#    5  0  6  1  8  7]\n",
        "#  [10  8  4 10  4  3  9  4  0  5  8  2  5  1  7  5  3  2  6  7 10  4  1  9\n",
        "#    6  7  1  3  8  9]\n",
        "#  [ 4  8  9  4  9  3  2  7  7  1  9  2  8  0  8  8  8  7  5  7  3  8  6  5\n",
        "#    5  6  0  1  2  1]\n",
        "#  [ 4  7  7  5  9  6  0  8  6  6  6  6  0  6  8  3  6  0  3  4 10  2  3  4\n",
        "#   10  9  0  2  9  0]\n",
        "#  [ 9  3 10  3  4  7  1  6  5  8 10  7  4  4  4  8  3  1  3  0  1  0  8  7\n",
        "#    7  5  7  1  9  5]\n",
        "#  [10  1  5  7  5  4  1  4  2  3  7  6  6  3 10  0  3  1  3 10  4  9  5  7\n",
        "#    5  2  8 10  2  8]]"
      ],
      "metadata": {
        "colab": {
          "base_uri": "https://localhost:8080/"
        },
        "id": "GabKwtFxTaKN",
        "outputId": "a5a97a23-7e7a-4ee1-9ba4-d5997ec851b6"
      },
      "execution_count": null,
      "outputs": [
        {
          "output_type": "stream",
          "name": "stdout",
          "text": [
            "[[ 0  8  7  4  4  9  0  7  2  1  5 10  8  8  7  8  5  1  9  4  5  4  2 10\n",
            "   8  7  4  9  5  4]\n",
            " [ 4  2  1  6  9  0  9  9  3  6  1  8  7  3  0 10  4  9  7  8  8  2  4  5\n",
            "   5  0  6  1  8  7]\n",
            " [10  8  4 10  4  3  9  4  0  5  8  2  5  1  7  5  3  2  6  7 10  4  1  9\n",
            "   6  7  1  3  8  9]\n",
            " [ 4  8  9  4  9  3  2  7  7  1  9  2  8  0  8  8  8  7  5  7  3  8  6  5\n",
            "   5  6  0  1  2  1]\n",
            " [ 4  7  7  5  9  6  0  8  6  6  6  6  0  6  8  3  6  0  3  4 10  2  3  4\n",
            "  10  9  0  2  9  0]\n",
            " [ 9  3 10  3  4  7  1  6  5  8 10  7  4  4  4  8  3  1  3  0  1  0  8  7\n",
            "   7  5  7  1  9  5]\n",
            " [10  1  5  7  5  4  1  4  2  3  7  6  6  3 10  0  3  1  3 10  4  9  5  7\n",
            "   5  2  8 10  2  8]]\n"
          ]
        }
      ]
    },
    {
      "cell_type": "code",
      "source": [
        "media_geral = np.mean(repostas_reshape)\n",
        "print(media_geral)\n",
        "# 5.147619047619048\n",
        "print(f\"A média geral foi de: {media_geral:.2f}\")\n",
        "# A média geral foi de: 5.15"
      ],
      "metadata": {
        "colab": {
          "base_uri": "https://localhost:8080/"
        },
        "id": "V16tvFIJVDT3",
        "outputId": "098ad0f1-002b-4047-b5ac-c66beee59144"
      },
      "execution_count": null,
      "outputs": [
        {
          "output_type": "stream",
          "name": "stdout",
          "text": [
            "5.147619047619048\n",
            "A média geral foi de: 5.15\n"
          ]
        }
      ]
    },
    {
      "cell_type": "code",
      "source": [
        "media_diaria = np.mean(repostas_reshape, axis=1)\n",
        "print(media_diaria)\n",
        "# [5.5        5.06666667 5.36666667 5.1        4.96666667 5.\n",
        "#  5.03333333]"
      ],
      "metadata": {
        "colab": {
          "base_uri": "https://localhost:8080/"
        },
        "id": "XIV5oFUMVx9J",
        "outputId": "14f83378-af9b-4790-a5bd-907ece049ca3"
      },
      "execution_count": null,
      "outputs": [
        {
          "output_type": "stream",
          "name": "stdout",
          "text": [
            "[5.5        5.06666667 5.36666667 5.1        4.96666667 5.\n",
            " 5.03333333]\n"
          ]
        }
      ]
    }
  ],
  "metadata": {
    "kernelspec": {
      "display_name": "Python 3 (ipykernel)",
      "language": "python",
      "name": "python3"
    },
    "language_info": {
      "codemirror_mode": {
        "name": "ipython",
        "version": 3
      },
      "file_extension": ".py",
      "mimetype": "text/x-python",
      "name": "python",
      "nbconvert_exporter": "python",
      "pygments_lexer": "ipython3",
      "version": "3.10.11"
    },
    "colab": {
      "provenance": [],
      "include_colab_link": true
    }
  },
  "nbformat": 4,
  "nbformat_minor": 0
}